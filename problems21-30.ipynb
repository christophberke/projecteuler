{
 "cells": [
  {
   "cell_type": "markdown",
   "id": "1c948316-7c9f-493c-bd77-ed71b013c67b",
   "metadata": {},
   "source": [
    "### Problem 21: Amicable Numbers"
   ]
  },
  {
   "cell_type": "code",
   "execution_count": null,
   "id": "4b4deecc-8d2b-4de0-8eb5-ee79767c8530",
   "metadata": {},
   "outputs": [],
   "source": [
    "function sum_divisor(n)\n",
    "\tif n <= 2\n",
    "\t\treturn 1 \n",
    "\tend \n",
    "\tsum_divs = 1\n",
    "\n",
    "\tfor i in 2:sqrt(n)\n",
    "\t\tif rem(n, i) == 0 \n",
    "\t\t\tsum_divs = sum_divs + i + n/i\n",
    "\t\tend \n",
    "\tend \n",
    "\n",
    "\treturn Int(sum_divs)\n",
    "end \n",
    "\n",
    "sum_divs = [sum_divisor(i) for i in 1:10000]\n",
    "\n",
    "count_amic = 0\n",
    "for k in 2:10000 \n",
    "\n",
    "\tif sum_divs[k] <= 10_000\n",
    "\t\tif sum_divs[sum_divs[k]] == k && k != sum_divs[k]\n",
    "\t\t\tglobal count_amic = count_amic + k + sum_divs[k]\n",
    "\t\t\t# println(k, \",  \", sum_divs[k])\n",
    "\t\tend\n",
    "\tend \n",
    "end \n",
    "count_amic *= 0.5"
   ]
  },
  {
   "cell_type": "markdown",
   "id": "949bda79-ef57-4a09-b937-3709489cf124",
   "metadata": {},
   "source": [
    "### Problem 23: Non-Abundant Sums"
   ]
  },
  {
   "cell_type": "code",
   "execution_count": 1,
   "id": "d2636463-2f8f-4fbf-9b51-9c9543d4204b",
   "metadata": {},
   "outputs": [
    {
     "data": {
      "text/plain": [
       "4179871"
      ]
     },
     "execution_count": 1,
     "metadata": {},
     "output_type": "execute_result"
    }
   ],
   "source": [
    "function get_divisor(n::Int64)\n",
    "\n",
    "\tdivs = [1]\n",
    "\tfor i in 2:sqrt(n) \n",
    "\t\trem(n,i) == 0 && append!(divs, [i, div(n, i)])\n",
    "\tend \n",
    "\n",
    "\t# Unique to eliminate double occurence for square numbers.\n",
    "\treturn unique(divs)\n",
    "\n",
    "end \n",
    "\n",
    "# Get all abundant numbers smaller than n \n",
    "function abundantnumbers(n)\n",
    "\n",
    "\tabund = []\n",
    "\tfor i in 1:n \n",
    "\t\t(sum(get_divisor(i)) > i) && push!(abund, i) \n",
    "\tend \n",
    "\n",
    "\treturn abund \n",
    "end\n",
    "\n",
    "Nmax = 28123 \n",
    "abundants = abundantnumbers(Nmax)\n",
    "\n",
    "is_abundantsum = zeros(Int64, Nmax)\n",
    "\n",
    "for i in abundants\n",
    "\tfor j in abundants \n",
    "\n",
    "\t\tij = i + j \n",
    "\t\tif i+j > Nmax\n",
    "\t\t\tbreak \n",
    "\t\telse  \n",
    "\t\t\tis_abundantsum[ij] = 1 \n",
    "\t\tend \n",
    "\n",
    "\tend \n",
    "end \n",
    "\n",
    "sum((1:Nmax)[Bool.(is_abundantsum) .== false])"
   ]
  },
  {
   "cell_type": "markdown",
   "id": "e8a92885-416d-4ac3-904f-13b7ae1f7396",
   "metadata": {},
   "source": [
    "### Problem 26: Reciprocal Cycles"
   ]
  },
  {
   "cell_type": "code",
   "execution_count": 1,
   "id": "0be92d61-3713-4072-ba9f-481d7207460f",
   "metadata": {},
   "outputs": [
    {
     "data": {
      "text/plain": [
       "983"
      ]
     },
     "execution_count": 1,
     "metadata": {},
     "output_type": "execute_result"
    }
   ],
   "source": [
    "# Implementation of long division of 1 / x\n",
    "# Returns digits after comma and remainder during long division.\n",
    "# Stops, when remainder repeats.\n",
    "# Example: \n",
    "# 1  :  6  = 0.16\n",
    "# 0\n",
    "# --\n",
    "# 10\n",
    "#  6\n",
    "# --- \n",
    "#  40\n",
    "#  36\n",
    "#  ---\n",
    "#   40\n",
    "# Return value is [40,40], [1,6]\n",
    "# If decimal representation is finite, returns an additional zero, e.g. \n",
    "# get_dec_rep(8) --> [20,40,0,0], [1,2,5,0]\n",
    "function get_dec_rep(x)\n",
    "\n",
    "\tdigs = []\n",
    "\treste = []\n",
    "\trest = 10\n",
    "\n",
    "\twhile true\n",
    "\n",
    "\t\tdig = div(rest, x)\n",
    "\t\tpush!(digs, dig)\n",
    "\n",
    "\t\trest = 10 * (rest - x * dig)\n",
    "\n",
    "\t\tif rest in reste\n",
    "\t\t\tpush!(reste, rest) \n",
    "\t\t\treturn reste, digs\n",
    "\t\telse\n",
    "\t\t\tpush!(reste, rest)\n",
    "\t\tend\n",
    "\n",
    "\tend \n",
    "end \n",
    "\n",
    "\n",
    "function get_periodicity(x)\n",
    "\ta, b = get_dec_rep(x)\n",
    "\tif a[end] == 0 \n",
    "\t\treturn 0 \n",
    "\telse \n",
    "\t\treturn size(a,1) - findfirst(x->x==a[end], a)\n",
    "\tend \n",
    "end\n",
    "\n",
    "period_length = zeros(999)\n",
    "\n",
    "for i in 1:999 \n",
    "\tperiod_length[i] = get_periodicity(i+1)\n",
    "end \n",
    "\n",
    "findmax(period_length)[2] + 1 "
   ]
  },
  {
   "cell_type": "markdown",
   "id": "e997a063-5346-4685-bb89-cd6a005418eb",
   "metadata": {},
   "source": [
    "### Problem 28: Number Spiral Diagonals"
   ]
  },
  {
   "cell_type": "code",
   "execution_count": 1,
   "id": "59ec122d-b7ff-46fd-b36d-caa05c50a9e1",
   "metadata": {},
   "outputs": [
    {
     "data": {
      "text/plain": [
       "669171001"
      ]
     },
     "execution_count": 1,
     "metadata": {},
     "output_type": "execute_result"
    }
   ],
   "source": [
    "function get_spiral_diagonals(N)\n",
    "\n",
    "\tcorner_sum = 1 \n",
    "\tupper_right_corner = 1 \n",
    "\n",
    "\tfor i in 1:N \n",
    "\t\tcorners = range(start = upper_right_corner+2i, step = 2i, length = 4)\n",
    "\t\tcorner_sum += sum(corners) \n",
    "\t\tupper_right_corner = corners[end]\n",
    "\tend \n",
    "\n",
    "\treturn corner_sum\n",
    "end \n",
    "\n",
    "\n",
    "get_spiral_diagonals(500)"
   ]
  },
  {
   "cell_type": "markdown",
   "id": "4338f768-4d20-43e6-820b-73f1dca16222",
   "metadata": {},
   "source": [
    "### Problem 30: Digit Fifth Powers"
   ]
  },
  {
   "cell_type": "code",
   "execution_count": null,
   "id": "c9208a95-8363-41b0-b89e-7db20f9c3b68",
   "metadata": {},
   "outputs": [],
   "source": [
    "N = 1_000_000 \n",
    "\n",
    "total_sum = []\n",
    "for i in 2:N \n",
    "\n",
    "\tdig_sum = sum(digits(i) .^ 5)\n",
    "\n",
    "\tif dig_sum == i\n",
    "\t\tpush!(total_sum, i)\n",
    "\tend \n",
    "\n",
    "end \n",
    "\n",
    "sum(total_sum)"
   ]
  }
 ],
 "metadata": {
  "kernelspec": {
   "display_name": "Julia 1.11.4",
   "language": "julia",
   "name": "julia-1.11"
  },
  "language_info": {
   "file_extension": ".jl",
   "mimetype": "application/julia",
   "name": "julia",
   "version": "1.11.4"
  }
 },
 "nbformat": 4,
 "nbformat_minor": 5
}
