{
 "cells": [
  {
   "cell_type": "markdown",
   "id": "1c948316-7c9f-493c-bd77-ed71b013c67b",
   "metadata": {},
   "source": [
    "### Problem 21"
   ]
  },
  {
   "cell_type": "code",
   "execution_count": null,
   "id": "4b4deecc-8d2b-4de0-8eb5-ee79767c8530",
   "metadata": {},
   "outputs": [],
   "source": [
    "function sum_divisor(n)\n",
    "\tif n <= 2\n",
    "\t\treturn 1 \n",
    "\tend \n",
    "\tsum_divs = 1\n",
    "\n",
    "\tfor i in 2:sqrt(n)\n",
    "\t\tif rem(n, i) == 0 \n",
    "\t\t\tsum_divs = sum_divs + i + n/i\n",
    "\t\tend \n",
    "\tend \n",
    "\n",
    "\treturn Int(sum_divs)\n",
    "end \n",
    "\n",
    "sum_divs = [sum_divisor(i) for i in 1:10000]\n",
    "\n",
    "count_amic = 0\n",
    "for k in 2:10000 \n",
    "\n",
    "\tif sum_divs[k] <= 10_000\n",
    "\t\tif sum_divs[sum_divs[k]] == k && k != sum_divs[k]\n",
    "\t\t\tglobal count_amic = count_amic + k + sum_divs[k]\n",
    "\t\t\t# println(k, \",  \", sum_divs[k])\n",
    "\t\tend\n",
    "\tend \n",
    "end \n",
    "count_amic *= 0.5"
   ]
  },
  {
   "cell_type": "markdown",
   "id": "4338f768-4d20-43e6-820b-73f1dca16222",
   "metadata": {},
   "source": [
    "### Problem 30:"
   ]
  },
  {
   "cell_type": "code",
   "execution_count": null,
   "id": "c9208a95-8363-41b0-b89e-7db20f9c3b68",
   "metadata": {},
   "outputs": [],
   "source": [
    "N = 1_000_000 \n",
    "\n",
    "total_sum = []\n",
    "for i in 2:N \n",
    "\n",
    "\tdig_sum = sum(digits(i) .^ 5)\n",
    "\n",
    "\tif dig_sum == i\n",
    "\t\tpush!(total_sum, i)\n",
    "\tend \n",
    "\n",
    "end \n",
    "\n",
    "sum(total_sum)"
   ]
  }
 ],
 "metadata": {
  "kernelspec": {
   "display_name": "Julia 1.11.4",
   "language": "julia",
   "name": "julia-1.11"
  },
  "language_info": {
   "file_extension": ".jl",
   "mimetype": "application/julia",
   "name": "julia",
   "version": "1.11.4"
  }
 },
 "nbformat": 4,
 "nbformat_minor": 5
}
