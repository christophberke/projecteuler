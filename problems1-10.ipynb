{
 "cells": [
  {
   "cell_type": "markdown",
   "id": "cd1a70b1",
   "metadata": {},
   "source": [
    "### Problem 1: Multiples of 3 or 5"
   ]
  },
  {
   "cell_type": "code",
   "execution_count": 1,
   "id": "e3408699",
   "metadata": {},
   "outputs": [
    {
     "name": "stdout",
     "output_type": "stream",
     "text": [
      "233168\n"
     ]
    }
   ],
   "source": [
    "println(sum(unique(vcat(3:3:999, 5:5:999))))"
   ]
  },
  {
   "cell_type": "markdown",
   "id": "55efb270",
   "metadata": {},
   "source": [
    "### Problem 2: Even Fibonacci Numbers"
   ]
  },
  {
   "cell_type": "code",
   "execution_count": 2,
   "id": "55b2f2e0",
   "metadata": {},
   "outputs": [
    {
     "name": "stdout",
     "output_type": "stream",
     "text": [
      "4613732\n"
     ]
    }
   ],
   "source": [
    "a, b = 1, 2\n",
    "fib = [1,2]\n",
    "\n",
    "while b < 4 * 1e6\n",
    "    c = b \n",
    "    global b = a + b \n",
    "    global a = c \n",
    "    push!(fib, b)\n",
    "end\n",
    "\n",
    "println(sum(fib[rem.(fib, 2) .== 0]))"
   ]
  },
  {
   "cell_type": "markdown",
   "id": "2719c3d0",
   "metadata": {},
   "source": [
    "### Problem 3: Largest Prime Factor"
   ]
  },
  {
   "cell_type": "code",
   "execution_count": 4,
   "id": "3c8ae348",
   "metadata": {},
   "outputs": [
    {
     "name": "stdout",
     "output_type": "stream",
     "text": [
      "6857\n"
     ]
    }
   ],
   "source": [
    "N = 600_851_475_143\n",
    "prime_factors = []\n",
    "current_div = 2 \n",
    "\n",
    "# Divide N by prime factors until 1 is reached.\n",
    "while N > 1\n",
    "    # Divide by current_div as long as remainder is 0.\n",
    "    while rem(N, current_div) == 0\n",
    "        # Decrease N\n",
    "        global N = Int(N / current_div)\n",
    "        push!(prime_factors, current_div)\n",
    "    end\n",
    "    # Increase current_div\n",
    "    global current_div += 1\n",
    "end\n",
    "\n",
    "println(prime_factors[end])"
   ]
  },
  {
   "cell_type": "markdown",
   "id": "4c7fedae",
   "metadata": {},
   "source": [
    "### Problem 4: Largest Palindrome Product"
   ]
  },
  {
   "cell_type": "code",
   "execution_count": 5,
   "id": "6ff5b815",
   "metadata": {},
   "outputs": [
    {
     "name": "stdout",
     "output_type": "stream",
     "text": [
      "906609\n"
     ]
    }
   ],
   "source": [
    "pals = []\n",
    "for i in 100:999, j in 100:999\n",
    "\n",
    "    palindrom = true\n",
    "    # Convert product to string (alternative: digits(i*j))\n",
    "    x = string(i * j)\n",
    "    \n",
    "    # Check whether string is a palindrome\n",
    "    for k in 1:div(length(x),2)\n",
    "        if x[k] != x[end+1-k]\n",
    "            palindrom = false\n",
    "            break\n",
    "        end \n",
    "    end \n",
    "    palindrom==true && push!(pals, i * j)\n",
    "end \n",
    "\n",
    "println(maximum(pals))"
   ]
  },
  {
   "cell_type": "markdown",
   "id": "2fdb3289",
   "metadata": {},
   "source": [
    "### Problem 5: Smallest Multiple"
   ]
  },
  {
   "cell_type": "markdown",
   "id": "b9345fff",
   "metadata": {},
   "source": [
    "Analytic solution: Get prime factorization of numbers 1-20 and calculate least common multiple."
   ]
  },
  {
   "cell_type": "markdown",
   "id": "8b565808",
   "metadata": {},
   "source": [
    "### Problem 6: Sum Square Difference"
   ]
  },
  {
   "cell_type": "code",
   "execution_count": 6,
   "id": "4a56445f",
   "metadata": {},
   "outputs": [
    {
     "data": {
      "text/plain": [
       "25164150"
      ]
     },
     "execution_count": 6,
     "metadata": {},
     "output_type": "execute_result"
    }
   ],
   "source": [
    "sum(1:100) ^ 2 - sum((1:100).^2)"
   ]
  },
  {
   "cell_type": "markdown",
   "id": "981cfe70",
   "metadata": {},
   "source": [
    "### Problem 7: 10 001st Prime"
   ]
  },
  {
   "cell_type": "code",
   "execution_count": 10,
   "id": "2f28de8f",
   "metadata": {},
   "outputs": [
    {
     "data": {
      "text/plain": [
       "104743"
      ]
     },
     "execution_count": 10,
     "metadata": {},
     "output_type": "execute_result"
    }
   ],
   "source": [
    "function isprime(n) \n",
    "    for i in 2:sqrt(n)\n",
    "        if rem(n,i) == 0\n",
    "            return false \n",
    "        end \n",
    "    end \n",
    "    return true\n",
    "end\n",
    "\n",
    "i = 0\n",
    "n = 1\n",
    "while i < 10_001\n",
    "    global n += 1\n",
    "    if isprime(n)\n",
    "        global i += 1\n",
    "    end\n",
    "end\n",
    "n"
   ]
  },
  {
   "cell_type": "markdown",
   "id": "2048a982",
   "metadata": {},
   "source": [
    "### Problem 8:  Largest Product in a Series"
   ]
  },
  {
   "cell_type": "code",
   "execution_count": 13,
   "id": "40f9725f",
   "metadata": {},
   "outputs": [
    {
     "data": {
      "text/plain": [
       "23514624000"
      ]
     },
     "execution_count": 13,
     "metadata": {},
     "output_type": "execute_result"
    }
   ],
   "source": [
    "N = \"7316717653133062491922511967442657474235534919493496983520312774506326239578318016984801869478851843858615607891129494954595017379583319528532088055111254069874715852386305071569329096329522744304355766896648950445244523161731856403098711121722383113622298934233803081353362766142828064444866452387493035890729629049156044077239071381051585930796086670172427121883998797908792274921901699720888093776657273330010533678812202354218097512545405947522435258490771167055601360483958644670632441572215539753697817977846174064955149290862569321978468622482839722413756570560574902614079729686524145351004748216637048440319989000889524345065854122758866688116427171479924442928230863465674813919123162824586178664583591245665294765456828489128831426076900422421902267105562632111110937054421750694165896040807198403850962455444362981230987879927244284909188845801561660979191338754992005240636899125607176060588611646710940507754100225698315520005593572972571636269561882670428252483600823257530420752963450\"\n",
    "\n",
    "x = 0\n",
    "for i in 1:988\n",
    "    b = [parse(Int64, N[k]) for k in i:i+12]\n",
    "    c = prod(b)\n",
    "    c > x && (global x = c)\n",
    "end \n",
    "x"
   ]
  },
  {
   "cell_type": "markdown",
   "id": "f6b8b4d6",
   "metadata": {},
   "source": [
    "### Problem 9: Special Pythagorean Triplet"
   ]
  },
  {
   "cell_type": "code",
   "execution_count": 15,
   "id": "40f8da81",
   "metadata": {},
   "outputs": [
    {
     "name": "stdout",
     "output_type": "stream",
     "text": [
      "31875000\n"
     ]
    }
   ],
   "source": [
    "for a in 1:1000\n",
    "    for b in 1:a-1 \n",
    "        (a + b) > 1000 && break\n",
    "        c = 1000 - a - b \n",
    "\n",
    "        if a*a+b*b == c*c\n",
    "            println(a * b * c)\n",
    "        end \n",
    "    end \n",
    "end "
   ]
  },
  {
   "cell_type": "markdown",
   "id": "cced9637",
   "metadata": {},
   "source": [
    "### Problem 10: Summation of Primes"
   ]
  },
  {
   "cell_type": "code",
   "execution_count": 1,
   "id": "610cee07",
   "metadata": {},
   "outputs": [
    {
     "data": {
      "text/plain": [
       "142913828922"
      ]
     },
     "execution_count": 1,
     "metadata": {},
     "output_type": "execute_result"
    }
   ],
   "source": [
    "function isprime(n) \n",
    "    for i in 2:sqrt(n)\n",
    "        if rem(n,i) == 0\n",
    "            return false \n",
    "        end \n",
    "    end \n",
    "    return true\n",
    "end\n",
    "\n",
    "i = 0\n",
    "n = 2\n",
    "while n < 2 * 1e6\n",
    "    if isprime(n)\n",
    "        global i += n\n",
    "    end\n",
    "\n",
    "    global n += 1\n",
    "end\n",
    "i"
   ]
  }
 ],
 "metadata": {
  "kernelspec": {
   "display_name": "Julia 1.11.4",
   "language": "julia",
   "name": "julia-1.11"
  },
  "language_info": {
   "file_extension": ".jl",
   "mimetype": "application/julia",
   "name": "julia",
   "version": "1.11.4"
  }
 },
 "nbformat": 4,
 "nbformat_minor": 5
}
